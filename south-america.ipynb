{
 "cells": [
  {
   "cell_type": "code",
   "execution_count": null,
   "metadata": {
    "ExecuteTime": {
     "start_time": "2019-11-25T15:25:54.665Z"
    }
   },
   "outputs": [],
   "source": [
    "import os\n",
    "from remap import remap\n",
    "import numpy as np\n",
    "import pandas as pd\n",
    "import matplotlib.pyplot as plt\n",
    "from mpl_toolkits.basemap import Basemap\n",
    "from netCDF4 import Dataset\n",
    "from mpl_toolkits.axes_grid.inset_locator import inset_axes\n",
    "import geopandas as gpd\n",
    "\n",
    "from cpt_convert import loadCPT\n",
    "from matplotlib.colors import LinearSegmentedColormap"
   ]
  },
  {
   "cell_type": "code",
   "execution_count": null,
   "metadata": {},
   "outputs": [],
   "source": [
    "shp = gpd.read_file('./shapefiles/estadosl_2007.shp')\n",
    "shp = shp[shp['SIGLAUF3'] == 'SP']\n",
    "bbox = shp.bounds.values[0]\n",
    "\n",
    "channel = files[0][19:21]\n",
    "year = files[0][27:31]\n",
    "day = files[0][31:34]\n",
    "hour = files[0][34:36]\n",
    "minute = files[0][36:38]\n",
    "plt.figure(figsize=(17, 10))\n",
    "\n",
    "plt.title('GOES-16 ABI CANAL %s - %sº dia de %s às %s:%s'%(channel, day, year, hour, minute))\n",
    "b = Basemap(projection='merc', llcrnrlon=bbox[0], llcrnrlat=bbox[1], \n",
    "            urcrnrlon=bbox[2], urcrnrlat=bbox[3])\n",
    "b.readshapefile('./shapefiles/estadosl_2007', name='sp', linewidth=2, color='red')\n",
    "\n",
    "bbox = [-53.08059692, -25.25489044, -44.20065689, -19.78015137]\n",
    "# bbox = [-60, -33, -45, 15]\n",
    "\n",
    "cpt = loadCPT('./IR4AVHRR6.cpt')\n",
    "cpt_convert = LinearSegmentedColormap('cpt', cpt)\n",
    "\n",
    "data = remap(files[0], bbox, 1, 'netCDF')\n",
    "grid = data.ReadAsArray()\n",
    "\n",
    "lons = np.linspace(bbox[0], bbox[2], grid.shape[1])\n",
    "lats = np.linspace(bbox[1], bbox[3], grid.shape[0])\n",
    "\n",
    "b.drawmeridians(np.linspace(bbox[0], bbox[2], 10), labels=[False, False, False, True], \n",
    "                fmt='%.2f', labelstyle='+/-', color='k')\n",
    "b.drawparallels(np.linspace(bbox[1], bbox[3], 10), labels=[True, False, False, False], \n",
    "                fmt='%.2f', labelstyle='+/-', color='k')\n",
    "\n",
    "cmap = b.imshow(grid,  origin='upper', vmin=200, vmax=300, cmap=cpt_convert)\n",
    "cbar = b.colorbar(cmap, extend='both', label='Temperatura [K]')\n",
    "inside = plt.axes([.17, .18, .20, .20])\n",
    "\n",
    "inside.hist(grid.reshape(1, -1)[0], bins=100, color='k', alpha=.9)\n",
    "inside.set_xlabel('Temperatura [K]', color='w')\n",
    "inside.set_yticks([])\n",
    "inside.tick_params(colors='w')\n",
    "plt.show()"
   ]
  }
 ],
 "metadata": {
  "kernelspec": {
   "display_name": "Python 3",
   "language": "python",
   "name": "python3"
  }
 },
 "nbformat": 4,
 "nbformat_minor": 2
}
