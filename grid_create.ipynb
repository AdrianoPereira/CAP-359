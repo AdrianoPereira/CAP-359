{
 "cells": [
  {
   "cell_type": "code",
   "execution_count": 1,
   "metadata": {
    "ExecuteTime": {
     "end_time": "2019-11-22T18:53:14.601538Z",
     "start_time": "2019-11-22T18:53:12.556633Z"
    }
   },
   "outputs": [],
   "source": [
    "import geopandas as gpd\n",
    "import pandas as pd\n",
    "from shapely.geometry import Polygon\n",
    "import numpy as np\n",
    "import threading"
   ]
  },
  {
   "cell_type": "code",
   "execution_count": 10,
   "metadata": {
    "ExecuteTime": {
     "end_time": "2019-11-22T20:20:56.123364Z",
     "start_time": "2019-11-22T20:20:54.621317Z"
    }
   },
   "outputs": [],
   "source": [
    "sigla = 'BA'\n",
    "states = gpd.read_file('shapefiles/estadosl_2007.shp')\n",
    "states = states[states['SIGLAUF3'] == sigla]\n",
    "xmin, ymin, xmax, ymax = states.bounds.values[0]\n",
    "\n",
    "width = 50/111 #km/deg\n",
    "height = 50/111 #km/deg\n",
    "\n",
    "cols = np.arange(xmin, xmax, width)\n",
    "rows = np.arange(ymin, ymax, height)[::-1]\n",
    "\n",
    "data = {}\n",
    "data['left'] = []\n",
    "data['top'] = []\n",
    "data['right'] = []\n",
    "data['bottom'] = []\n",
    "data['geometry'] = []\n",
    "\n",
    "for row in rows:\n",
    "    row -= rows[1]-rows[0] \n",
    "    for col in cols:\n",
    "        polygon = Polygon([(col, row), (col+width, row), (col+width, row-height), (col, row-height)])\n",
    "        data['left'].append(col)\n",
    "        data['top'].append(row)\n",
    "        data['right'].append(col+width)\n",
    "        data['bottom'].append(row-height)\n",
    "        data['geometry'].append(polygon)\n",
    "        \n",
    "\n",
    "grid = gpd.GeoDataFrame(data)\n",
    "grid.crs = {'init': 'epsg:4326'}\n",
    "grid.to_file(\"shape/state_%s.shp\"%sigla)"
   ]
  },
  {
   "cell_type": "code",
   "execution_count": 8,
   "metadata": {
    "ExecuteTime": {
     "end_time": "2019-11-22T19:17:10.688359Z",
     "start_time": "2019-11-22T19:17:10.685123Z"
    }
   },
   "outputs": [],
   "source": [
    "class Thread(threading.Thread):\n",
    "    def __init__(self, polygon, point):\n",
    "        threading.Thread.__init__(self)\n",
    "        self.polygon = polygon\n",
    "        self.point = point\n",
    "    \n",
    "    def run(self):\n",
    "        return self.polygon.contains(self.point)"
   ]
  },
  {
   "cell_type": "code",
   "execution_count": 85,
   "metadata": {
    "ExecuteTime": {
     "end_time": "2019-11-16T17:15:54.894450Z",
     "start_time": "2019-11-16T17:15:54.781169Z"
    }
   },
   "outputs": [],
   "source": [
    "points = gpd.read_file('shape/flashs/flashs.shp')\n",
    "\n",
    "# grid = gpd.read_file('shape/state_BA.shp')\n",
    "\n",
    "# result = {}\n",
    "\n",
    "# for i, poly in grid.iterrows():\n",
    "#     result[i] = 0\n",
    "#     for j, point in points.iterrows():\n",
    "#         thread = Thread(poly['geometry'], point['geometry'])\n",
    "#         print(thread.start())"
   ]
  }
 ],
 "metadata": {
  "kernelspec": {
   "display_name": "Python 3",
   "language": "python",
   "name": "python3"
  },
  "language_info": {
   "codemirror_mode": {
    "name": "ipython",
    "version": 3
   },
   "file_extension": ".py",
   "mimetype": "text/x-python",
   "name": "python",
   "nbconvert_exporter": "python",
   "pygments_lexer": "ipython3",
   "version": "3.7.3"
  }
 },
 "nbformat": 4,
 "nbformat_minor": 2
}
