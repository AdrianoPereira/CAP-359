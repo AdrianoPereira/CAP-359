{
 "cells": [
  {
   "cell_type": "code",
   "execution_count": 1,
   "metadata": {
    "ExecuteTime": {
     "end_time": "2019-11-22T19:41:59.767811Z",
     "start_time": "2019-11-22T19:41:58.838824Z"
    }
   },
   "outputs": [],
   "source": [
    "import pandas as pd\n",
    "import matplotlib.pyplot as plt\n",
    "import numpy as np"
   ]
  },
  {
   "cell_type": "code",
   "execution_count": 27,
   "metadata": {
    "ExecuteTime": {
     "end_time": "2019-11-22T20:06:53.442926Z",
     "start_time": "2019-11-22T20:06:53.417650Z"
    }
   },
   "outputs": [
    {
     "data": {
      "text/html": [
       "<div>\n",
       "<style scoped>\n",
       "    .dataframe tbody tr th:only-of-type {\n",
       "        vertical-align: middle;\n",
       "    }\n",
       "\n",
       "    .dataframe tbody tr th {\n",
       "        vertical-align: top;\n",
       "    }\n",
       "\n",
       "    .dataframe thead th {\n",
       "        text-align: right;\n",
       "    }\n",
       "</style>\n",
       "<table border=\"1\" class=\"dataframe\">\n",
       "  <thead>\n",
       "    <tr style=\"text-align: right;\">\n",
       "      <th></th>\n",
       "      <th>left</th>\n",
       "      <th>top</th>\n",
       "      <th>right</th>\n",
       "      <th>bottom</th>\n",
       "      <th>id</th>\n",
       "      <th>NUMPOINTS</th>\n",
       "    </tr>\n",
       "  </thead>\n",
       "  <tbody>\n",
       "    <tr>\n",
       "      <th>0</th>\n",
       "      <td>-46.616668</td>\n",
       "      <td>-8.533223</td>\n",
       "      <td>-45.616668</td>\n",
       "      <td>-9.533223</td>\n",
       "      <td>1</td>\n",
       "      <td>5</td>\n",
       "    </tr>\n",
       "    <tr>\n",
       "      <th>1</th>\n",
       "      <td>-46.616668</td>\n",
       "      <td>-9.533223</td>\n",
       "      <td>-45.616668</td>\n",
       "      <td>-10.533223</td>\n",
       "      <td>2</td>\n",
       "      <td>1</td>\n",
       "    </tr>\n",
       "    <tr>\n",
       "      <th>2</th>\n",
       "      <td>-46.616668</td>\n",
       "      <td>-10.533223</td>\n",
       "      <td>-45.616668</td>\n",
       "      <td>-11.533223</td>\n",
       "      <td>3</td>\n",
       "      <td>0</td>\n",
       "    </tr>\n",
       "    <tr>\n",
       "      <th>3</th>\n",
       "      <td>-46.616668</td>\n",
       "      <td>-11.533223</td>\n",
       "      <td>-45.616668</td>\n",
       "      <td>-12.533223</td>\n",
       "      <td>4</td>\n",
       "      <td>2</td>\n",
       "    </tr>\n",
       "    <tr>\n",
       "      <th>4</th>\n",
       "      <td>-46.616668</td>\n",
       "      <td>-12.533223</td>\n",
       "      <td>-45.616668</td>\n",
       "      <td>-13.533223</td>\n",
       "      <td>5</td>\n",
       "      <td>0</td>\n",
       "    </tr>\n",
       "  </tbody>\n",
       "</table>\n",
       "</div>"
      ],
      "text/plain": [
       "        left        top      right     bottom  id  NUMPOINTS\n",
       "0 -46.616668  -8.533223 -45.616668  -9.533223   1          5\n",
       "1 -46.616668  -9.533223 -45.616668 -10.533223   2          1\n",
       "2 -46.616668 -10.533223 -45.616668 -11.533223   3          0\n",
       "3 -46.616668 -11.533223 -45.616668 -12.533223   4          2\n",
       "4 -46.616668 -12.533223 -45.616668 -13.533223   5          0"
      ]
     },
     "execution_count": 27,
     "metadata": {},
     "output_type": "execute_result"
    }
   ],
   "source": []
  },
  {
   "cell_type": "code",
   "execution_count": 40,
   "metadata": {
    "ExecuteTime": {
     "end_time": "2019-11-22T20:22:43.628883Z",
     "start_time": "2019-11-22T20:22:43.597713Z"
    }
   },
   "outputs": [
    {
     "data": {
      "text/html": [
       "<div>\n",
       "<style scoped>\n",
       "    .dataframe tbody tr th:only-of-type {\n",
       "        vertical-align: middle;\n",
       "    }\n",
       "\n",
       "    .dataframe tbody tr th {\n",
       "        vertical-align: top;\n",
       "    }\n",
       "\n",
       "    .dataframe thead th {\n",
       "        text-align: right;\n",
       "    }\n",
       "</style>\n",
       "<table border=\"1\" class=\"dataframe\">\n",
       "  <thead>\n",
       "    <tr style=\"text-align: right;\">\n",
       "      <th></th>\n",
       "      <th>left</th>\n",
       "      <th>top</th>\n",
       "      <th>right</th>\n",
       "      <th>bottom</th>\n",
       "      <th>NUMPOINTS</th>\n",
       "    </tr>\n",
       "  </thead>\n",
       "  <tbody>\n",
       "    <tr>\n",
       "      <th>0</th>\n",
       "      <td>-46.616668</td>\n",
       "      <td>-8.438834</td>\n",
       "      <td>-46.166217</td>\n",
       "      <td>-8.889284</td>\n",
       "      <td>0</td>\n",
       "    </tr>\n",
       "    <tr>\n",
       "      <th>1</th>\n",
       "      <td>-46.166217</td>\n",
       "      <td>-8.438834</td>\n",
       "      <td>-45.715767</td>\n",
       "      <td>-8.889284</td>\n",
       "      <td>0</td>\n",
       "    </tr>\n",
       "    <tr>\n",
       "      <th>2</th>\n",
       "      <td>-45.715767</td>\n",
       "      <td>-8.438834</td>\n",
       "      <td>-45.265317</td>\n",
       "      <td>-8.889284</td>\n",
       "      <td>0</td>\n",
       "    </tr>\n",
       "    <tr>\n",
       "      <th>3</th>\n",
       "      <td>-45.265317</td>\n",
       "      <td>-8.438834</td>\n",
       "      <td>-44.814866</td>\n",
       "      <td>-8.889284</td>\n",
       "      <td>0</td>\n",
       "    </tr>\n",
       "    <tr>\n",
       "      <th>4</th>\n",
       "      <td>-44.814866</td>\n",
       "      <td>-8.438834</td>\n",
       "      <td>-44.364416</td>\n",
       "      <td>-8.889284</td>\n",
       "      <td>0</td>\n",
       "    </tr>\n",
       "  </tbody>\n",
       "</table>\n",
       "</div>"
      ],
      "text/plain": [
       "        left       top      right    bottom  NUMPOINTS\n",
       "0 -46.616668 -8.438834 -46.166217 -8.889284          0\n",
       "1 -46.166217 -8.438834 -45.715767 -8.889284          0\n",
       "2 -45.715767 -8.438834 -45.265317 -8.889284          0\n",
       "3 -45.265317 -8.438834 -44.814866 -8.889284          0\n",
       "4 -44.814866 -8.438834 -44.364416 -8.889284          0"
      ]
     },
     "execution_count": 40,
     "metadata": {},
     "output_type": "execute_result"
    }
   ],
   "source": [
    "df = pd.read_csv('./shape/count/counts_BA.csv')\n",
    "df.head()"
   ]
  },
  {
   "cell_type": "code",
   "execution_count": 42,
   "metadata": {
    "ExecuteTime": {
     "end_time": "2019-11-22T20:22:49.256960Z",
     "start_time": "2019-11-22T20:22:49.179593Z"
    }
   },
   "outputs": [],
   "source": [
    "data = dict(lon=[], lat=[], dat=[])\n",
    "for i, row in df.iterrows():\n",
    "    lon = (row.left+row.right)/2\n",
    "    lat = (row.bottom+row.top)/2\n",
    "    data['lon'].append(lon)\n",
    "    data['lat'].append(lat)\n",
    "    data['dat'].append(row.NUMPOINTS)"
   ]
  },
  {
   "cell_type": "code",
   "execution_count": 43,
   "metadata": {
    "ExecuteTime": {
     "end_time": "2019-11-22T20:22:50.469107Z",
     "start_time": "2019-11-22T20:22:50.456271Z"
    }
   },
   "outputs": [],
   "source": [
    "n = int(np.sqrt(df.count()[0]))\n",
    "mat = np.zeros(shape=(n, n))\n",
    "i = 0\n",
    "for x in range(n):\n",
    "    for y in range(n):\n",
    "        mat[x][y] = df.NUMPOINTS[i]\n",
    "        i+=1"
   ]
  },
  {
   "cell_type": "code",
   "execution_count": 48,
   "metadata": {
    "ExecuteTime": {
     "end_time": "2019-11-22T20:51:00.368080Z",
     "start_time": "2019-11-22T20:51:00.252619Z"
    }
   },
   "outputs": [
    {
     "data": {
      "text/plain": [
       "<matplotlib.image.AxesImage at 0x7f4cff9709e8>"
      ]
     },
     "execution_count": 48,
     "metadata": {},
     "output_type": "execute_result"
    },
    {
     "data": {
      "image/png": "[encoded data removed]",
      "text/plain": [
       "<Figure size 432x288 with 1 Axes>"
      ]
     },
     "metadata": {
      "needs_background": "light"
     },
     "output_type": "display_data"
    }
   ],
   "source": [
    "plt.imshow(mat)"
   ]
  },
  {
   "cell_type": "code",
   "execution_count": 29,
   "metadata": {
    "ExecuteTime": {
     "end_time": "2019-11-22T20:09:08.938719Z",
     "start_time": "2019-11-22T20:09:08.935283Z"
    }
   },
   "outputs": [
    {
     "data": {
      "text/plain": [
       "[-9.033223]"
      ]
     },
     "execution_count": 29,
     "metadata": {},
     "output_type": "execute_result"
    }
   ],
   "source": [
    "data['lat'][:1]"
   ]
  },
  {
   "cell_type": "code",
   "execution_count": 30,
   "metadata": {
    "ExecuteTime": {
     "end_time": "2019-11-22T20:09:11.115375Z",
     "start_time": "2019-11-22T20:09:11.112037Z"
    }
   },
   "outputs": [
    {
     "data": {
      "text/plain": [
       "[-46.116668]"
      ]
     },
     "execution_count": 30,
     "metadata": {},
     "output_type": "execute_result"
    }
   ],
   "source": [
    "data['lon'][:1]"
   ]
  },
  {
   "cell_type": "code",
   "execution_count": 23,
   "metadata": {
    "ExecuteTime": {
     "end_time": "2019-11-22T20:02:12.651960Z",
     "start_time": "2019-11-22T20:02:12.491094Z"
    }
   },
   "outputs": [
    {
     "data": {
      "text/plain": [
       "[<matplotlib.lines.Line2D at 0x7f4d010453c8>]"
      ]
     },
     "execution_count": 23,
     "metadata": {},
     "output_type": "execute_result"
    },
    {
     "data": {
      "image/png": "[encoded data removed]",
      "text/plain": [
       "<Figure size 432x288 with 1 Axes>"
      ]
     },
     "metadata": {
      "needs_background": "light"
     },
     "output_type": "display_data"
    }
   ],
   "source": [
    "plt.plot(data['lon'], data['lat'], 'ro')"
   ]
  }
 ],
 "metadata": {
  "kernelspec": {
   "display_name": "Python 3",
   "language": "python",
   "name": "python3"
  },
  "language_info": {
   "codemirror_mode": {
    "name": "ipython",
    "version": 3
   },
   "file_extension": ".py",
   "mimetype": "text/x-python",
   "name": "python",
   "nbconvert_exporter": "python",
   "pygments_lexer": "ipython3",
   "version": "3.7.3"
  }
 },
 "nbformat": 4,
 "nbformat_minor": 2
}
