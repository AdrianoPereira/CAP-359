{
 "cells": [
  {
   "cell_type": "code",
   "execution_count": 1,
   "metadata": {
    "ExecuteTime": {
     "end_time": "2019-11-12T22:59:25.593000Z",
     "start_time": "2019-11-12T22:59:25.201355Z"
    }
   },
   "outputs": [],
   "source": [
    "import os \n",
    "import matplotlib.pyplot as plt\n",
    "import geopandas\n",
    "from cartopy import crs as ccrs\n",
    "from netCDF4 import Dataset"
   ]
  },
  {
   "cell_type": "code",
   "execution_count": 2,
   "metadata": {
    "ExecuteTime": {
     "end_time": "2019-11-12T22:59:25.728938Z",
     "start_time": "2019-11-12T22:59:25.594657Z"
    }
   },
   "outputs": [
    {
     "data": {
      "text/html": [
       "<div>\n",
       "<style scoped>\n",
       "    .dataframe tbody tr th:only-of-type {\n",
       "        vertical-align: middle;\n",
       "    }\n",
       "\n",
       "    .dataframe tbody tr th {\n",
       "        vertical-align: top;\n",
       "    }\n",
       "\n",
       "    .dataframe thead th {\n",
       "        text-align: right;\n",
       "    }\n",
       "</style>\n",
       "<table border=\"1\" class=\"dataframe\">\n",
       "  <thead>\n",
       "    <tr style=\"text-align: right;\">\n",
       "      <th></th>\n",
       "      <th>GID0</th>\n",
       "      <th>CODIGOIB1</th>\n",
       "      <th>NOMEUF2</th>\n",
       "      <th>SIGLAUF3</th>\n",
       "      <th>geometry</th>\n",
       "    </tr>\n",
       "  </thead>\n",
       "  <tbody>\n",
       "    <tr>\n",
       "      <th>0</th>\n",
       "      <td>2</td>\n",
       "      <td>12</td>\n",
       "      <td>ACRE</td>\n",
       "      <td>AC</td>\n",
       "      <td>POLYGON ((-73.60818 -7.20194, -72.86963 -7.528...</td>\n",
       "    </tr>\n",
       "    <tr>\n",
       "      <th>1</th>\n",
       "      <td>3</td>\n",
       "      <td>27</td>\n",
       "      <td>ALAGOAS</td>\n",
       "      <td>AL</td>\n",
       "      <td>POLYGON ((-35.46516 -8.82549, -35.46626 -8.827...</td>\n",
       "    </tr>\n",
       "    <tr>\n",
       "      <th>2</th>\n",
       "      <td>4</td>\n",
       "      <td>13</td>\n",
       "      <td>AMAZONAS</td>\n",
       "      <td>AM</td>\n",
       "      <td>POLYGON ((-67.32553 2.03012, -67.32234 2.01741...</td>\n",
       "    </tr>\n",
       "    <tr>\n",
       "      <th>3</th>\n",
       "      <td>5</td>\n",
       "      <td>16</td>\n",
       "      <td>AMAPA</td>\n",
       "      <td>AP</td>\n",
       "      <td>POLYGON ((-51.18168 4.00889, -51.17900 3.99812...</td>\n",
       "    </tr>\n",
       "    <tr>\n",
       "      <th>4</th>\n",
       "      <td>6</td>\n",
       "      <td>29</td>\n",
       "      <td>BAHIA</td>\n",
       "      <td>BA</td>\n",
       "      <td>POLYGON ((-39.28820 -8.56290, -39.28229 -8.567...</td>\n",
       "    </tr>\n",
       "  </tbody>\n",
       "</table>\n",
       "</div>"
      ],
      "text/plain": [
       "  GID0 CODIGOIB1   NOMEUF2 SIGLAUF3  \\\n",
       "0    2        12      ACRE       AC   \n",
       "1    3        27   ALAGOAS       AL   \n",
       "2    4        13  AMAZONAS       AM   \n",
       "3    5        16     AMAPA       AP   \n",
       "4    6        29     BAHIA       BA   \n",
       "\n",
       "                                            geometry  \n",
       "0  POLYGON ((-73.60818 -7.20194, -72.86963 -7.528...  \n",
       "1  POLYGON ((-35.46516 -8.82549, -35.46626 -8.827...  \n",
       "2  POLYGON ((-67.32553 2.03012, -67.32234 2.01741...  \n",
       "3  POLYGON ((-51.18168 4.00889, -51.17900 3.99812...  \n",
       "4  POLYGON ((-39.28820 -8.56290, -39.28229 -8.567...  "
      ]
     },
     "execution_count": 2,
     "metadata": {},
     "output_type": "execute_result"
    }
   ],
   "source": [
    "df = geopandas.read_file('shapefiles/estadosl_2007.shp')\n",
    "df.head()"
   ]
  },
  {
   "cell_type": "code",
   "execution_count": 8,
   "metadata": {
    "ExecuteTime": {
     "end_time": "2019-11-12T22:59:43.833941Z",
     "start_time": "2019-11-12T22:59:43.804533Z"
    }
   },
   "outputs": [
    {
     "ename": "OSError",
     "evalue": "[Errno -101] NetCDF: HDF error: b'noaa-goes16/GLM-L2-LCFA/2019/297/13/OR_GLM-L2-LCFA_G16_s20192971316400_e20192971317000_c20192971317030.nc'",
     "output_type": "error",
     "traceback": [
      "\u001b[0;31m---------------------------------------------------------------------------\u001b[0m",
      "\u001b[0;31mOSError\u001b[0m                                   Traceback (most recent call last)",
      "\u001b[0;32m<ipython-input-8-cf76b2596d48>\u001b[0m in \u001b[0;36m<module>\u001b[0;34m\u001b[0m\n\u001b[1;32m      1\u001b[0m \u001b[0mfile\u001b[0m \u001b[0;34m=\u001b[0m \u001b[0;34m'noaa-goes16/GLM-L2-LCFA/2019/297/13/OR_GLM-L2-LCFA_G16_s20192971316400_e20192971317000_c20192971317030.nc'\u001b[0m\u001b[0;34m\u001b[0m\u001b[0;34m\u001b[0m\u001b[0m\n\u001b[0;32m----> 2\u001b[0;31m \u001b[0mDataset\u001b[0m\u001b[0;34m(\u001b[0m\u001b[0mfile\u001b[0m\u001b[0;34m,\u001b[0m \u001b[0mformat\u001b[0m\u001b[0;34m=\u001b[0m\u001b[0;34m'NETCDF4'\u001b[0m\u001b[0;34m)\u001b[0m\u001b[0;34m\u001b[0m\u001b[0;34m\u001b[0m\u001b[0m\n\u001b[0m",
      "\u001b[0;32mnetCDF4/_netCDF4.pyx\u001b[0m in \u001b[0;36mnetCDF4._netCDF4.Dataset.__init__\u001b[0;34m()\u001b[0m\n",
      "\u001b[0;32mnetCDF4/_netCDF4.pyx\u001b[0m in \u001b[0;36mnetCDF4._netCDF4._ensure_nc_success\u001b[0;34m()\u001b[0m\n",
      "\u001b[0;31mOSError\u001b[0m: [Errno -101] NetCDF: HDF error: b'noaa-goes16/GLM-L2-LCFA/2019/297/13/OR_GLM-L2-LCFA_G16_s20192971316400_e20192971317000_c20192971317030.nc'"
     ]
    }
   ],
   "source": [
    "file = 'noaa-goes16/GLM-L2-LCFA/2019/297/13/OR_GLM-L2-LCFA_G16_s20192971316400_e20192971317000_c20192971317030.nc'\n",
    "Dataset(file, format='NETCDF4')"
   ]
  },
  {
   "cell_type": "code",
   "execution_count": 9,
   "metadata": {
    "ExecuteTime": {
     "end_time": "2019-11-12T22:59:56.445207Z",
     "start_time": "2019-11-12T22:59:56.429224Z"
    }
   },
   "outputs": [
    {
     "ename": "OSError",
     "evalue": "[Errno -101] NetCDF: HDF error: b'noaa-goes16/ABI-L2-CMIPF/2019/297/13/OR_ABI-L2-CMIPF-M6C12_G16_s20192971330364_e20192971340078_c20192971340163.nc'",
     "output_type": "error",
     "traceback": [
      "\u001b[0;31m---------------------------------------------------------------------------\u001b[0m",
      "\u001b[0;31mOSError\u001b[0m                                   Traceback (most recent call last)",
      "\u001b[0;32m<ipython-input-9-49efe921e8c6>\u001b[0m in \u001b[0;36m<module>\u001b[0;34m\u001b[0m\n\u001b[1;32m      4\u001b[0m \u001b[0mfiles2\u001b[0m \u001b[0;34m=\u001b[0m \u001b[0mlist\u001b[0m\u001b[0;34m(\u001b[0m\u001b[0mfilter\u001b[0m\u001b[0;34m(\u001b[0m\u001b[0;32mlambda\u001b[0m \u001b[0mx\u001b[0m\u001b[0;34m:\u001b[0m \u001b[0mx\u001b[0m\u001b[0;34m.\u001b[0m\u001b[0mendswith\u001b[0m\u001b[0;34m(\u001b[0m\u001b[0;34m'.nc'\u001b[0m\u001b[0;34m)\u001b[0m\u001b[0;34m,\u001b[0m \u001b[0mfiles2\u001b[0m\u001b[0;34m)\u001b[0m\u001b[0;34m)\u001b[0m\u001b[0;34m\u001b[0m\u001b[0;34m\u001b[0m\u001b[0m\n\u001b[1;32m      5\u001b[0m \u001b[0;34m\u001b[0m\u001b[0m\n\u001b[0;32m----> 6\u001b[0;31m \u001b[0mnc\u001b[0m \u001b[0;34m=\u001b[0m \u001b[0mDataset\u001b[0m\u001b[0;34m(\u001b[0m\u001b[0mfiles2\u001b[0m\u001b[0;34m[\u001b[0m\u001b[0;36m1\u001b[0m\u001b[0;34m]\u001b[0m\u001b[0;34m)\u001b[0m\u001b[0;34m\u001b[0m\u001b[0;34m\u001b[0m\u001b[0m\n\u001b[0m\u001b[1;32m      7\u001b[0m \u001b[0mlats\u001b[0m \u001b[0;34m=\u001b[0m \u001b[0mlist\u001b[0m\u001b[0;34m(\u001b[0m\u001b[0mnc\u001b[0m\u001b[0;34m.\u001b[0m\u001b[0mvariables\u001b[0m\u001b[0;34m[\u001b[0m\u001b[0;34m'flash_lat'\u001b[0m\u001b[0;34m]\u001b[0m\u001b[0;34m[\u001b[0m\u001b[0;34m:\u001b[0m\u001b[0;34m]\u001b[0m\u001b[0;34m)\u001b[0m\u001b[0;34m\u001b[0m\u001b[0;34m\u001b[0m\u001b[0m\n\u001b[1;32m      8\u001b[0m \u001b[0mlons\u001b[0m \u001b[0;34m=\u001b[0m \u001b[0mlist\u001b[0m\u001b[0;34m(\u001b[0m\u001b[0mnc\u001b[0m\u001b[0;34m.\u001b[0m\u001b[0mvariables\u001b[0m\u001b[0;34m[\u001b[0m\u001b[0;34m'flash_lon'\u001b[0m\u001b[0;34m]\u001b[0m\u001b[0;34m[\u001b[0m\u001b[0;34m:\u001b[0m\u001b[0;34m]\u001b[0m\u001b[0;34m)\u001b[0m\u001b[0;34m\u001b[0m\u001b[0;34m\u001b[0m\u001b[0m\n",
      "\u001b[0;32mnetCDF4/_netCDF4.pyx\u001b[0m in \u001b[0;36mnetCDF4._netCDF4.Dataset.__init__\u001b[0;34m()\u001b[0m\n",
      "\u001b[0;32mnetCDF4/_netCDF4.pyx\u001b[0m in \u001b[0;36mnetCDF4._netCDF4._ensure_nc_success\u001b[0;34m()\u001b[0m\n",
      "\u001b[0;31mOSError\u001b[0m: [Errno -101] NetCDF: HDF error: b'noaa-goes16/ABI-L2-CMIPF/2019/297/13/OR_ABI-L2-CMIPF-M6C12_G16_s20192971330364_e20192971340078_c20192971340163.nc'"
     ]
    }
   ],
   "source": [
    "path2 = 'noaa-goes16/ABI-L2-CMIPF/2019/297/13'\n",
    "files2 = os.listdir(path2)\n",
    "files2 = [os.path.join(path2, file) for file in files2]\n",
    "files2 = list(filter(lambda x: x.endswith('.nc'), files2))\n",
    "\n",
    "nc = Dataset(files2[1])\n",
    "lats = list(nc.variables['flash_lat'][:])\n",
    "lons = list(nc.variables['flash_lon'][:])\n",
    "\n",
    "fig, ax = plt.subplots(figsize=(17, 8))\n",
    "\n",
    "df[df['SIGLAUF3'] == 'SP'].plot(ax=ax, edgecolor='k')\n",
    "plt.show()"
   ]
  },
  {
   "cell_type": "code",
   "execution_count": null,
   "metadata": {
    "ExecuteTime": {
     "end_time": "2019-11-12T22:59:25.857599Z",
     "start_time": "2019-11-12T22:59:25.205Z"
    }
   },
   "outputs": [],
   "source": [
    "files2[0]"
   ]
  }
 ],
 "metadata": {
  "kernelspec": {
   "display_name": "Python 3",
   "language": "python",
   "name": "python3"
  },
  "language_info": {
   "codemirror_mode": {
    "name": "ipython",
    "version": 3
   },
   "file_extension": ".py",
   "mimetype": "text/x-python",
   "name": "python",
   "nbconvert_exporter": "python",
   "pygments_lexer": "ipython3",
   "version": "3.7.3"
  }
 },
 "nbformat": 4,
 "nbformat_minor": 2
}
